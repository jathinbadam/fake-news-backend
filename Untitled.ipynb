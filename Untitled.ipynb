{
 "cells": [
  {
   "cell_type": "code",
   "execution_count": 1,
   "id": "986b2485",
   "metadata": {},
   "outputs": [],
   "source": [
    "from sklearn.decomposition import PCA\n"
   ]
  },
  {
   "cell_type": "code",
   "execution_count": 19,
   "id": "e0c42caf",
   "metadata": {},
   "outputs": [],
   "source": [
    "x = [[0.14775158, 0.1809937, -0.08991648, 0.08888207, 0.06359929, 0.01453255,\n",
    "  0.32998443,  0.16149567,  0.04659639, -0.28358287 , 0.05100777 ,-0.10542502,\n",
    " -0.17009453 ,-0.0409615 , -0.01527105, -0.12739293  ,0.2115463   ,0.02837507,\n",
    " -0.07133724  ,0.07183397,  0.07530081,  0.3589335   ,0.04201194 ,-0.16279697,\n",
    "  0.01721837, -0.02042697, -0.05222242,  0.10362305 ,-0.12943164 ,-0.19901186,\n",
    " -0.04314349, -0.21991083,  0.00621293, -0.05943672 , 0.19254264 ,-0.01901656,\n",
    " -0.01653181,  0.21689151,  0.05647774,  0.20765692 , 0.2099944  , 0.00756144,\n",
    " -0.19331662, -0.13605206, -0.04169498, -0.0286693  ,-0.2156951  ,-0.08201928,\n",
    "  0.22798039,  0.04184191,  0.01061811,  0.18655209 ,-0.00147363 , 0.04450729,\n",
    " -0.03496978, -0.08826983, -0.07922944, -0.12035641 , 0.16047578 , 0.02657027,\n",
    " -0.02544307, -0.10108385, -0.14965281, -0.13197689 , 0.07126382 ,-0.06471583,\n",
    " -0.3380262 , -0.0036431 , -0.0947094 , -0.10772443 ,-0.00754628  ,0.16534,\n",
    "  0.16351457, -0.1690263 , -0.20925078,  0.03539449 , 0.10526396 ,-0.02178353,\n",
    "  0.02726148,  0.26059958,  0.01354804,  0.06138616 , 0.09080019 , 0.13621132,\n",
    "  0.2556702 ,  0.22294153,  0.00855953, -0.10821473 ,-0.25420105 ,-0.14576091,\n",
    " -0.06114518, -0.07010832,  0.17807245,  0.16760728  ,0.0913825  ,-0.04574439,\n",
    "  0.13910413,  0.00780498,  0.1552244  ,-0.06136049]"
   ]
  },
  {
   "cell_type": "code",
   "execution_count": 15,
   "id": "91aa06ac",
   "metadata": {},
   "outputs": [],
   "source": [
    "pca_news = PCA(n_components=2)\n"
   ]
  },
  {
   "cell_type": "code",
   "execution_count": 14,
   "id": "0b6022ff",
   "metadata": {},
   "outputs": [
    {
     "name": "stderr",
     "output_type": "stream",
     "text": [
      "/usr/local/lib/python3.9/site-packages/sklearn/decomposition/_pca.py:468: RuntimeWarning: invalid value encountered in true_divide\n",
      "  explained_variance_ = (S ** 2) / (n_samples - 1)\n"
     ]
    }
   ],
   "source": [
    "principalComponents_breast = pca_news.fit_transform(x)\n"
   ]
  },
  {
   "cell_type": "code",
   "execution_count": 20,
   "id": "4d17033a",
   "metadata": {},
   "outputs": [
    {
     "ename": "ValueError",
     "evalue": "Expected 2D array, got 1D array instead:\narray=[ 0.14775158  0.1809937  -0.08991648  0.08888207  0.06359929  0.01453255\n  0.32998443  0.16149567  0.04659639 -0.28358287  0.05100777 -0.10542502\n -0.17009453 -0.0409615  -0.01527105 -0.12739293  0.2115463   0.02837507\n -0.07133724  0.07183397  0.07530081  0.3589335   0.04201194 -0.16279697\n  0.01721837 -0.02042697 -0.05222242  0.10362305 -0.12943164 -0.19901186\n -0.04314349 -0.21991083  0.00621293 -0.05943672  0.19254264 -0.01901656\n -0.01653181  0.21689151  0.05647774  0.20765692  0.2099944   0.00756144\n -0.19331662 -0.13605206 -0.04169498 -0.0286693  -0.2156951  -0.08201928\n  0.22798039  0.04184191  0.01061811  0.18655209 -0.00147363  0.04450729\n -0.03496978 -0.08826983 -0.07922944 -0.12035641  0.16047578  0.02657027\n -0.02544307 -0.10108385 -0.14965281 -0.13197689  0.07126382 -0.06471583\n -0.3380262  -0.0036431  -0.0947094  -0.10772443 -0.00754628  0.16534\n  0.16351457 -0.1690263  -0.20925078  0.03539449  0.10526396 -0.02178353\n  0.02726148  0.26059958  0.01354804  0.06138616  0.09080019  0.13621132\n  0.2556702   0.22294153  0.00855953 -0.10821473 -0.25420105 -0.14576091\n -0.06114518 -0.07010832  0.17807245  0.16760728  0.0913825  -0.04574439\n  0.13910413  0.00780498  0.1552244  -0.06136049].\nReshape your data either using array.reshape(-1, 1) if your data has a single feature or array.reshape(1, -1) if it contains a single sample.",
     "output_type": "error",
     "traceback": [
      "\u001b[0;31m---------------------------------------------------------------------------\u001b[0m",
      "\u001b[0;31mValueError\u001b[0m                                Traceback (most recent call last)",
      "\u001b[0;32m/var/folders/fk/6qynqnl56hs0_g38s0gv7w100000gr/T/ipykernel_31541/2219101863.py\u001b[0m in \u001b[0;36m<module>\u001b[0;34m\u001b[0m\n\u001b[1;32m      2\u001b[0m \u001b[0;34m\u001b[0m\u001b[0m\n\u001b[1;32m      3\u001b[0m \u001b[0mpca_reload\u001b[0m \u001b[0;34m=\u001b[0m \u001b[0mpk\u001b[0m\u001b[0;34m.\u001b[0m\u001b[0mload\u001b[0m\u001b[0;34m(\u001b[0m\u001b[0mopen\u001b[0m\u001b[0;34m(\u001b[0m\u001b[0;34m\"pca.pkl\"\u001b[0m\u001b[0;34m,\u001b[0m\u001b[0;34m'rb'\u001b[0m\u001b[0;34m)\u001b[0m\u001b[0;34m)\u001b[0m\u001b[0;34m\u001b[0m\u001b[0;34m\u001b[0m\u001b[0m\n\u001b[0;32m----> 4\u001b[0;31m \u001b[0mresult_new\u001b[0m \u001b[0;34m=\u001b[0m \u001b[0mpca_reload\u001b[0m\u001b[0;34m.\u001b[0m\u001b[0mtransform\u001b[0m\u001b[0;34m(\u001b[0m\u001b[0mx\u001b[0m\u001b[0;34m)\u001b[0m\u001b[0;34m\u001b[0m\u001b[0;34m\u001b[0m\u001b[0m\n\u001b[0m",
      "\u001b[0;32m/usr/local/lib/python3.9/site-packages/sklearn/decomposition/_base.py\u001b[0m in \u001b[0;36mtransform\u001b[0;34m(self, X)\u001b[0m\n\u001b[1;32m    113\u001b[0m         \u001b[0mcheck_is_fitted\u001b[0m\u001b[0;34m(\u001b[0m\u001b[0mself\u001b[0m\u001b[0;34m)\u001b[0m\u001b[0;34m\u001b[0m\u001b[0;34m\u001b[0m\u001b[0m\n\u001b[1;32m    114\u001b[0m \u001b[0;34m\u001b[0m\u001b[0m\n\u001b[0;32m--> 115\u001b[0;31m         \u001b[0mX\u001b[0m \u001b[0;34m=\u001b[0m \u001b[0mself\u001b[0m\u001b[0;34m.\u001b[0m\u001b[0m_validate_data\u001b[0m\u001b[0;34m(\u001b[0m\u001b[0mX\u001b[0m\u001b[0;34m,\u001b[0m \u001b[0mdtype\u001b[0m\u001b[0;34m=\u001b[0m\u001b[0;34m[\u001b[0m\u001b[0mnp\u001b[0m\u001b[0;34m.\u001b[0m\u001b[0mfloat64\u001b[0m\u001b[0;34m,\u001b[0m \u001b[0mnp\u001b[0m\u001b[0;34m.\u001b[0m\u001b[0mfloat32\u001b[0m\u001b[0;34m]\u001b[0m\u001b[0;34m,\u001b[0m \u001b[0mreset\u001b[0m\u001b[0;34m=\u001b[0m\u001b[0;32mFalse\u001b[0m\u001b[0;34m)\u001b[0m\u001b[0;34m\u001b[0m\u001b[0;34m\u001b[0m\u001b[0m\n\u001b[0m\u001b[1;32m    116\u001b[0m         \u001b[0;32mif\u001b[0m \u001b[0mself\u001b[0m\u001b[0;34m.\u001b[0m\u001b[0mmean_\u001b[0m \u001b[0;32mis\u001b[0m \u001b[0;32mnot\u001b[0m \u001b[0;32mNone\u001b[0m\u001b[0;34m:\u001b[0m\u001b[0;34m\u001b[0m\u001b[0;34m\u001b[0m\u001b[0m\n\u001b[1;32m    117\u001b[0m             \u001b[0mX\u001b[0m \u001b[0;34m=\u001b[0m \u001b[0mX\u001b[0m \u001b[0;34m-\u001b[0m \u001b[0mself\u001b[0m\u001b[0;34m.\u001b[0m\u001b[0mmean_\u001b[0m\u001b[0;34m\u001b[0m\u001b[0;34m\u001b[0m\u001b[0m\n",
      "\u001b[0;32m/usr/local/lib/python3.9/site-packages/sklearn/base.py\u001b[0m in \u001b[0;36m_validate_data\u001b[0;34m(self, X, y, reset, validate_separately, **check_params)\u001b[0m\n\u001b[1;32m    419\u001b[0m             \u001b[0mout\u001b[0m \u001b[0;34m=\u001b[0m \u001b[0mX\u001b[0m\u001b[0;34m\u001b[0m\u001b[0;34m\u001b[0m\u001b[0m\n\u001b[1;32m    420\u001b[0m         \u001b[0;32melif\u001b[0m \u001b[0misinstance\u001b[0m\u001b[0;34m(\u001b[0m\u001b[0my\u001b[0m\u001b[0;34m,\u001b[0m \u001b[0mstr\u001b[0m\u001b[0;34m)\u001b[0m \u001b[0;32mand\u001b[0m \u001b[0my\u001b[0m \u001b[0;34m==\u001b[0m \u001b[0;34m'no_validation'\u001b[0m\u001b[0;34m:\u001b[0m\u001b[0;34m\u001b[0m\u001b[0;34m\u001b[0m\u001b[0m\n\u001b[0;32m--> 421\u001b[0;31m             \u001b[0mX\u001b[0m \u001b[0;34m=\u001b[0m \u001b[0mcheck_array\u001b[0m\u001b[0;34m(\u001b[0m\u001b[0mX\u001b[0m\u001b[0;34m,\u001b[0m \u001b[0;34m**\u001b[0m\u001b[0mcheck_params\u001b[0m\u001b[0;34m)\u001b[0m\u001b[0;34m\u001b[0m\u001b[0;34m\u001b[0m\u001b[0m\n\u001b[0m\u001b[1;32m    422\u001b[0m             \u001b[0mout\u001b[0m \u001b[0;34m=\u001b[0m \u001b[0mX\u001b[0m\u001b[0;34m\u001b[0m\u001b[0;34m\u001b[0m\u001b[0m\n\u001b[1;32m    423\u001b[0m         \u001b[0;32melse\u001b[0m\u001b[0;34m:\u001b[0m\u001b[0;34m\u001b[0m\u001b[0;34m\u001b[0m\u001b[0m\n",
      "\u001b[0;32m/usr/local/lib/python3.9/site-packages/sklearn/utils/validation.py\u001b[0m in \u001b[0;36minner_f\u001b[0;34m(*args, **kwargs)\u001b[0m\n\u001b[1;32m     61\u001b[0m             \u001b[0mextra_args\u001b[0m \u001b[0;34m=\u001b[0m \u001b[0mlen\u001b[0m\u001b[0;34m(\u001b[0m\u001b[0margs\u001b[0m\u001b[0;34m)\u001b[0m \u001b[0;34m-\u001b[0m \u001b[0mlen\u001b[0m\u001b[0;34m(\u001b[0m\u001b[0mall_args\u001b[0m\u001b[0;34m)\u001b[0m\u001b[0;34m\u001b[0m\u001b[0;34m\u001b[0m\u001b[0m\n\u001b[1;32m     62\u001b[0m             \u001b[0;32mif\u001b[0m \u001b[0mextra_args\u001b[0m \u001b[0;34m<=\u001b[0m \u001b[0;36m0\u001b[0m\u001b[0;34m:\u001b[0m\u001b[0;34m\u001b[0m\u001b[0;34m\u001b[0m\u001b[0m\n\u001b[0;32m---> 63\u001b[0;31m                 \u001b[0;32mreturn\u001b[0m \u001b[0mf\u001b[0m\u001b[0;34m(\u001b[0m\u001b[0;34m*\u001b[0m\u001b[0margs\u001b[0m\u001b[0;34m,\u001b[0m \u001b[0;34m**\u001b[0m\u001b[0mkwargs\u001b[0m\u001b[0;34m)\u001b[0m\u001b[0;34m\u001b[0m\u001b[0;34m\u001b[0m\u001b[0m\n\u001b[0m\u001b[1;32m     64\u001b[0m \u001b[0;34m\u001b[0m\u001b[0m\n\u001b[1;32m     65\u001b[0m             \u001b[0;31m# extra_args > 0\u001b[0m\u001b[0;34m\u001b[0m\u001b[0;34m\u001b[0m\u001b[0;34m\u001b[0m\u001b[0m\n",
      "\u001b[0;32m/usr/local/lib/python3.9/site-packages/sklearn/utils/validation.py\u001b[0m in \u001b[0;36mcheck_array\u001b[0;34m(array, accept_sparse, accept_large_sparse, dtype, order, copy, force_all_finite, ensure_2d, allow_nd, ensure_min_samples, ensure_min_features, estimator)\u001b[0m\n\u001b[1;32m    692\u001b[0m             \u001b[0;31m# If input is 1D raise error\u001b[0m\u001b[0;34m\u001b[0m\u001b[0;34m\u001b[0m\u001b[0;34m\u001b[0m\u001b[0m\n\u001b[1;32m    693\u001b[0m             \u001b[0;32mif\u001b[0m \u001b[0marray\u001b[0m\u001b[0;34m.\u001b[0m\u001b[0mndim\u001b[0m \u001b[0;34m==\u001b[0m \u001b[0;36m1\u001b[0m\u001b[0;34m:\u001b[0m\u001b[0;34m\u001b[0m\u001b[0;34m\u001b[0m\u001b[0m\n\u001b[0;32m--> 694\u001b[0;31m                 raise ValueError(\n\u001b[0m\u001b[1;32m    695\u001b[0m                     \u001b[0;34m\"Expected 2D array, got 1D array instead:\\narray={}.\\n\"\u001b[0m\u001b[0;34m\u001b[0m\u001b[0;34m\u001b[0m\u001b[0m\n\u001b[1;32m    696\u001b[0m                     \u001b[0;34m\"Reshape your data either using array.reshape(-1, 1) if \"\u001b[0m\u001b[0;34m\u001b[0m\u001b[0;34m\u001b[0m\u001b[0m\n",
      "\u001b[0;31mValueError\u001b[0m: Expected 2D array, got 1D array instead:\narray=[ 0.14775158  0.1809937  -0.08991648  0.08888207  0.06359929  0.01453255\n  0.32998443  0.16149567  0.04659639 -0.28358287  0.05100777 -0.10542502\n -0.17009453 -0.0409615  -0.01527105 -0.12739293  0.2115463   0.02837507\n -0.07133724  0.07183397  0.07530081  0.3589335   0.04201194 -0.16279697\n  0.01721837 -0.02042697 -0.05222242  0.10362305 -0.12943164 -0.19901186\n -0.04314349 -0.21991083  0.00621293 -0.05943672  0.19254264 -0.01901656\n -0.01653181  0.21689151  0.05647774  0.20765692  0.2099944   0.00756144\n -0.19331662 -0.13605206 -0.04169498 -0.0286693  -0.2156951  -0.08201928\n  0.22798039  0.04184191  0.01061811  0.18655209 -0.00147363  0.04450729\n -0.03496978 -0.08826983 -0.07922944 -0.12035641  0.16047578  0.02657027\n -0.02544307 -0.10108385 -0.14965281 -0.13197689  0.07126382 -0.06471583\n -0.3380262  -0.0036431  -0.0947094  -0.10772443 -0.00754628  0.16534\n  0.16351457 -0.1690263  -0.20925078  0.03539449  0.10526396 -0.02178353\n  0.02726148  0.26059958  0.01354804  0.06138616  0.09080019  0.13621132\n  0.2556702   0.22294153  0.00855953 -0.10821473 -0.25420105 -0.14576091\n -0.06114518 -0.07010832  0.17807245  0.16760728  0.0913825  -0.04574439\n  0.13910413  0.00780498  0.1552244  -0.06136049].\nReshape your data either using array.reshape(-1, 1) if your data has a single feature or array.reshape(1, -1) if it contains a single sample."
     ]
    }
   ],
   "source": [
    "import pickle as pk\n",
    "\n",
    "pca_reload = pk.load(open(\"pca.pkl\",'rb'))\n",
    "result_new = pca_reload.transform(x)"
   ]
  },
  {
   "cell_type": "code",
   "execution_count": 18,
   "id": "8cf5e29d",
   "metadata": {},
   "outputs": [
    {
     "data": {
      "text/plain": [
       "array([[7.62145424, 3.20737918]])"
      ]
     },
     "execution_count": 18,
     "metadata": {},
     "output_type": "execute_result"
    }
   ],
   "source": [
    "result_new"
   ]
  },
  {
   "cell_type": "code",
   "execution_count": null,
   "id": "e4254baa",
   "metadata": {},
   "outputs": [],
   "source": []
  }
 ],
 "metadata": {
  "kernelspec": {
   "display_name": "Python 3 (ipykernel)",
   "language": "python",
   "name": "python3"
  },
  "language_info": {
   "codemirror_mode": {
    "name": "ipython",
    "version": 3
   },
   "file_extension": ".py",
   "mimetype": "text/x-python",
   "name": "python",
   "nbconvert_exporter": "python",
   "pygments_lexer": "ipython3",
   "version": "3.9.6"
  }
 },
 "nbformat": 4,
 "nbformat_minor": 5
}
